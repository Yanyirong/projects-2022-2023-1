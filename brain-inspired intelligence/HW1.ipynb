{
 "cells": [
  {
   "cell_type": "markdown",
   "metadata": {
    "id": "mtzWNWlxB_pe"
   },
   "source": [
    "# **1.神经系统包括哪两个部分，它们又包括哪些部分？（1分）**"
   ]
  },
  {
   "cell_type": "markdown",
   "metadata": {
    "id": "mtzWNWlxB_pe"
   },
   "source": [
    "神经系统包括中枢神经系统CNS和周围神经系统PNS\n",
    "中枢神经系统：脊椎动物的CNS包括脑和脊髓\n",
    "周围神经系统：PNS包括联结CNS中的脑干、脊髓与身体和内部器官的神经，以及在脑和脊髓之外独立的神经节"
   ]
  },
  {
   "cell_type": "markdown",
   "metadata": {
    "id": "mtzWNWlxB_pe"
   },
   "source": [
    "# **2.神经系统的功能有哪些？（1分）**"
   ]
  },
  {
   "cell_type": "markdown",
   "metadata": {
    "id": "mtzWNWlxB_pe"
   },
   "source": [
    "1、根据生物个体的需要以及外部环境的变换来控制或调节自身的行为以及内环境的稳态\n",
    "\n",
    "2、获取信息、处理信息以及输出信息\n",
    "\n",
    "3、神经系统包括感觉系统，其功能为获取和处理外界环境的信息，包括视觉系统、听觉系统、嗅觉系统、味觉系统和触觉系统等。感觉系统将环境刺激转换为电信号，这些信号被传送至大脑中形成一个内部的表征，也就是意识。"
   ]
  },
  {
   "cell_type": "markdown",
   "metadata": {
    "id": "mtzWNWlxB_pe"
   },
   "source": [
    "# **3.人类视觉系统和卷积操作有什么区别？（2分）**"
   ]
  },
  {
   "cell_type": "markdown",
   "metadata": {
    "id": "mtzWNWlxB_pe"
   },
   "source": [
    "我个人的看法是以下几点：\n",
    "\n",
    "1、感受野对应的应该是池化操作。在人类视觉系统里，首先我们要了解感受野，感受野指的是，视野内或视网膜的某一区域，光照这一区域能增强或抑制该神经元的信号。在我的理解里，其实感受野就指的是神经元可以接受一定空间内的信息作为输入，然后整合并作为自己的输出。我个人感觉到感受野对应的应该是卷积系统中的池化操作，因为池化操作是使用一个值来替代某一局部区域的由多个值表示的信息，借此达到缩小网络规模但又一定程度保留原始数据特征的目的。感受野中，信息汇聚在在视网膜中，由视网膜中的各种细胞结构处理将结果传输给输出的细胞结构，因此我认为感受野对应的是池化操作。而且由于人类视觉系统的特殊性，其可以做到用不同的池化核进行操作。\n",
    "\n",
    "2、人类视觉系统里的类似“卷积”的操作，我个人认为是人眼“扫描”视线范围内的场景获取信息的过程，因为卷积操作中存在着滑动操作，这一操作在视觉系统里最贴切的等效，应该是人类在观察视线内场景时的扫视过程，以此获取场景内的信息，传输进入处理信息的结构中。\n",
    "\n",
    "3、因此通过以上的论述，我个人认为，人类视觉系统中不存在和卷积相似的具体结构。但是人眼获取信息的“扫描”过程，会和卷积操作非常类似。"
   ]
  },
  {
   "cell_type": "markdown",
   "metadata": {
    "id": "mtzWNWlxB_pe"
   },
   "source": [
    "# **4.用python测量神经网络的神经元数量（6分）**"
   ]
  },
  {
   "cell_type": "markdown",
   "metadata": {
    "id": "mtzWNWlxB_pe"
   },
   "source": [
    "测量LeNet，VGG，AlexNet模型的神经元的数量（定义为参数的数量），并与人类神经系统数量做比较\n",
    "\n",
    "tips:模型可以从网上现有代码库中找到，自行搜索测量参数数量的方法"
   ]
  },
  {
   "cell_type": "code",
   "execution_count": 2,
   "metadata": {
    "id": "mtzWNWlxB_pe"
   },
   "outputs": [],
   "source": [
    "import torchvision.models as tm\n",
    "model = tm.alexnet()\n",
    "a = sum(p.numel() for p in model.parameters())"
   ]
  },
  {
   "cell_type": "code",
   "execution_count": 3,
   "metadata": {},
   "outputs": [
    {
     "data": {
      "text/plain": [
       "61100840"
      ]
     },
     "execution_count": 3,
     "metadata": {},
     "output_type": "execute_result"
    }
   ],
   "source": [
    "a"
   ]
  },
  {
   "cell_type": "code",
   "execution_count": 4,
   "metadata": {},
   "outputs": [],
   "source": [
    "import torchvision.models as tm\n",
    "model = tm.vgg11()\n",
    "a = sum(p.numel() for p in model.parameters())"
   ]
  },
  {
   "cell_type": "code",
   "execution_count": 5,
   "metadata": {},
   "outputs": [
    {
     "data": {
      "text/plain": [
       "132863336"
      ]
     },
     "execution_count": 5,
     "metadata": {},
     "output_type": "execute_result"
    }
   ],
   "source": [
    "a"
   ]
  },
  {
   "cell_type": "code",
   "execution_count": 11,
   "metadata": {},
   "outputs": [
    {
     "name": "stdout",
     "output_type": "stream",
     "text": [
      "61706\n"
     ]
    }
   ],
   "source": [
    "import torch\n",
    "import torch.nn as nn\n",
    "\n",
    "class LeNet(nn.Module):\n",
    "    def __init__(self):\n",
    "        super(LeNet, self).__init__()\n",
    "        self.conv1 = nn.Conv2d(1, 6, 5)\n",
    "        self.pool1 = nn.MaxPool2d(2, 2)\n",
    "        self.conv2 = nn.Conv2d(6, 16, 5)\n",
    "        self.pool2 = nn.MaxPool2d(2, 2)\n",
    "        self.fc1 = nn.Linear(16*5*5, 120)\n",
    "        self.fc2 = nn.Linear(120, 84)\n",
    "        self.fc3 = nn.Linear(84, 10)\n",
    "        \n",
    "    def forward(self, x):\n",
    "        x = self.conv1(x)\n",
    "        x = self.pool1(x)\n",
    "        x = self.conv2(x)\n",
    "        x = self.pool2(x)\n",
    "        x = nn.Flatten(x)\n",
    "        x = self.fc1(x)\n",
    "        x = self.fc2(x)\n",
    "        x = self.fc3(x)\n",
    "        return x\n",
    "    \n",
    "model = LeNet()\n",
    "a = sum(p.numel() for p in model.parameters())\n",
    "print(a)"
   ]
  },
  {
   "cell_type": "markdown",
   "metadata": {},
   "source": [
    "人类的神经元包含约860亿，远远超过这些网络"
   ]
  }
 ],
 "metadata": {
  "accelerator": "GPU",
  "colab": {
   "collapsed_sections": [
    "9QXsrr6Mp5e_",
    "1EWDw3bip8Ie",
    "vFM8UV9CreIX",
    "xXkTAJ9ws1Y6",
    "OgkWg605tE1y",
    "OBt0WDzyujnk",
    "xC96eesMqYo-",
    "mszPTrYOluym",
    "VTHK-wAWV57B"
   ],
   "name": "“Copy of quantAwareTrain.ipynb”的副本",
   "provenance": []
  },
  "kernelspec": {
   "display_name": "Python 3 (ipykernel)",
   "language": "python",
   "name": "python3"
  },
  "language_info": {
   "codemirror_mode": {
    "name": "ipython",
    "version": 3
   },
   "file_extension": ".py",
   "mimetype": "text/x-python",
   "name": "python",
   "nbconvert_exporter": "python",
   "pygments_lexer": "ipython3",
   "version": "3.9.7"
  },
  "vscode": {
   "interpreter": {
    "hash": "7758e92e9a61d7a3490898707f7eeb937c85e9d1e8d4e877cc6c187218f226d5"
   }
  }
 },
 "nbformat": 4,
 "nbformat_minor": 1
}
